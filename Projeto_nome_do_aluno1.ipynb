{
  "nbformat": 4,
  "nbformat_minor": 0,
  "metadata": {
    "colab": {
      "provenance": [],
      "authorship_tag": "ABX9TyNHqPl089vO5GCdHyDTyvXK",
      "include_colab_link": true
    },
    "kernelspec": {
      "name": "python3",
      "display_name": "Python 3"
    },
    "language_info": {
      "name": "python"
    }
  },
  "cells": [
    {
      "cell_type": "markdown",
      "metadata": {
        "id": "view-in-github",
        "colab_type": "text"
      },
      "source": [
        "<a href=\"https://colab.research.google.com/github/Lorojr/Livro-receitas/blob/master/Projeto_nome_do_aluno1.ipynb\" target=\"_parent\"><img src=\"https://colab.research.google.com/assets/colab-badge.svg\" alt=\"Open In Colab\"/></a>"
      ]
    },
    {
      "cell_type": "code",
      "source": [
        "INSTRUÇÕES DO PROJETO\n",
        "Desenvolva um programa que utiliza o nome de um aluno, duas notas e a quantidade de faltas que ele teve. Conclua se o aluno está aprovado ou reprovado de acordo com as especificações:\n",
        "•\tSe a média do aluno for menor que sete, o sistema deve informar o nome do aluno e que ele está reprovado;\n",
        "•\tSe o aluno possuir mais de três faltas, o sistema deve informar o nome do aluno e que ele está reprovado;\n",
        "•\tSe a média do aluno for maior ou igual a sete, o sistema deve informar o nome do aluno e que ele está aprovado.\n",
        "No sistema, todos os valores devem estar armazenados em variáveis\n",
        "\n",
        "studentName = str(input(\"Nome do aluno: \"))\n",
        "note1 = float(input(\"Primeira nota: \"))\n",
        "note2 = float(input(\"Segunda nota: \"))\n",
        "faults = int(input(\"Quantidade de faltas: \"))\n",
        "average = (note1 + note2) / 2\n",
        "if average < 7 or faults > 3: print(\"Nome:\", studentName, \", reprovado.\")\n",
        "else: print(\"Nome:\", studentName, \", ap\n"
      ],
      "metadata": {
        "id": "4iAltQwgiAc0"
      },
      "execution_count": null,
      "outputs": []
    }
  ]
}