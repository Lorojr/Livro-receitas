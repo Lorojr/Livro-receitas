{
  "nbformat": 4,
  "nbformat_minor": 0,
  "metadata": {
    "colab": {
      "provenance": [],
      "authorship_tag": "ABX9TyN6tYt/JfXRZo7CEA//GEJV",
      "include_colab_link": true
    },
    "kernelspec": {
      "name": "python3",
      "display_name": "Python 3"
    },
    "language_info": {
      "name": "python"
    }
  },
  "cells": [
    {
      "cell_type": "markdown",
      "metadata": {
        "id": "view-in-github",
        "colab_type": "text"
      },
      "source": [
        "<a href=\"https://colab.research.google.com/github/Lorojr/Livro-receitas/blob/master/Calculadora.ipynb\" target=\"_parent\"><img src=\"https://colab.research.google.com/assets/colab-badge.svg\" alt=\"Open In Colab\"/></a>"
      ]
    },
    {
      "cell_type": "code",
      "execution_count": null,
      "metadata": {
        "id": "JQBExiMLrH2e"
      },
      "outputs": [],
      "source": [
        "INSTRUÇÕES DO PROJETO \n",
        "Faça uma função calculadora que os números e as operações serão feitas pelo usuário. O código deve ficar rodando infinitamente até que o usuário escolha a opção de sair. No início, o programa mostrará a seguinte lista de operações:\n",
        "1: Soma\n",
        "2: Subtração\n",
        "3: Multiplicação\n",
        "4: Divisão\n",
        "0: Sair\n",
        "Digite o número para a operação correspondente e caso o usuário introduza qualquer outro, o sistema deve mostrar a mensagem “Essa opção não existe” e voltar ao menu de opções.\n",
        "Após a seleção, o sistema deve pedir para o usuário inserir o primeiro e segundo valor, um de cada. Depois precisa executar a operação e mostrar o resultado na tela. Quando o usuário escolher a opção “Sair”, o sistema irá parar.\n",
        "É necessário que o sistema mostre as opções sempre que finalizar uma operação e mostrar o resultado.\n",
        "while True:\n",
        "operacao = input('Qual opreração (+, -, *, / ? ou \\'Q\\' para sair: ')\n",
        "\n",
        "if operacao == 'Q' or operacao == 'q':\n",
        "    break\n",
        "\n",
        "elif operacao == '+' or operacao == '-' or operacao == '*' or operacao == '/':    \n",
        "    x = int(input('Digite o primeiro numero: '))\n",
        "\n",
        "    y = int(input('Digite o segundo numero: '))\n",
        "    \n",
        "    if operacao == '+':\n",
        "        result = x + y\n",
        "\n",
        "    elif operacao == '-':\n",
        "        result = x - y\n",
        "\n",
        "    elif operacao == '*':\n",
        "        result = x * y\n",
        "\n",
        "    elif operacao == '/':\n",
        "        result = x / y\n",
        "\n",
        "    else:\n",
        "        print('Operação Invalida')\n",
        "\n",
        "    print(result)\n",
        "    \n",
        "else:\n",
        "    print('Operação Invalida')\n",
        "    input('APERTE ENTER PARA REINICIAR')\n",
        "\n"
      ]
    }
  ]
}