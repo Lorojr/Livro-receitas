{
  "nbformat": 4,
  "nbformat_minor": 0,
  "metadata": {
    "colab": {
      "provenance": [],
      "authorship_tag": "ABX9TyNwqIwTChLyX/yj2i13QeO4",
      "include_colab_link": true
    },
    "kernelspec": {
      "name": "python3",
      "display_name": "Python 3"
    },
    "language_info": {
      "name": "python"
    }
  },
  "cells": [
    {
      "cell_type": "markdown",
      "metadata": {
        "id": "view-in-github",
        "colab_type": "text"
      },
      "source": [
        "<a href=\"https://colab.research.google.com/github/Lorojr/Livro-receitas/blob/master/caracter%C3%ADsticas_de_um_ve%C3%ADculo.ipynb\" target=\"_parent\"><img src=\"https://colab.research.google.com/assets/colab-badge.svg\" alt=\"Open In Colab\"/></a>"
      ]
    },
    {
      "cell_type": "code",
      "execution_count": null,
      "metadata": {
        "id": "0EaNjViQlZ0T"
      },
      "outputs": [],
      "source": [
        "INSTRUÇÕES DO PROJETO\n",
        "Desenvolva um código que utilize as seguintes características de um veículo:\n",
        "•\tQuantidade de rodas;\n",
        "•\tPeso bruto em quilogramas;\n",
        "•\tQuantidade de pessoas no veículo.\n",
        "Com essas informações, o programa mostrará qual é a melhor categoria de habilitação para o veículo informado a partir das condições:\n",
        "A: Veículos com duas ou três rodas;\n",
        "B: Veículos com quatro rodas, que acomodam até oito pessoas e seu peso é de até 3500 kg;\n",
        "C: Veículos com quatro rodas ou mais e com peso entre 3500 e 6000 kg;\n",
        "D: Veículos com quatro rodas ou mais e que acomodam mais de oito pessoas;\n",
        "E: Veículos com quatro rodas ou mais e com mais de 6000 kg.\n",
        "r = int(input(\"Rodas: \"))\n",
        "kg = float(input(\"Peso: \"))\n",
        "p = int(input(\"Passageiros: \"))\n",
        "if r <= 3:\n",
        "print(\"Categoria: A\")\n",
        "elif r == 4 and kg <= 3.499 and p < 8:\n",
        "print(\"Categoria: B\")\n",
        "elif r >= 4 and kg >= 3.500 and kg <= 5.999 and p < 8:\n",
        "print(\"C\")\n",
        "elif r >= 4 and p > 8:\n",
        "\n"
      ]
    }
  ]
}