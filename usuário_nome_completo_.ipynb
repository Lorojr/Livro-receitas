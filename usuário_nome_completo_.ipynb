{
  "nbformat": 4,
  "nbformat_minor": 0,
  "metadata": {
    "colab": {
      "provenance": [],
      "authorship_tag": "ABX9TyOEWeCCUqOYr6CB094sg2tl",
      "include_colab_link": true
    },
    "kernelspec": {
      "name": "python3",
      "display_name": "Python 3"
    },
    "language_info": {
      "name": "python"
    }
  },
  "cells": [
    {
      "cell_type": "markdown",
      "metadata": {
        "id": "view-in-github",
        "colab_type": "text"
      },
      "source": [
        "<a href=\"https://colab.research.google.com/github/Lorojr/Livro-receitas/blob/master/usu%C3%A1rio_nome_completo_.ipynb\" target=\"_parent\"><img src=\"https://colab.research.google.com/assets/colab-badge.svg\" alt=\"Open In Colab\"/></a>"
      ]
    },
    {
      "cell_type": "code",
      "execution_count": null,
      "metadata": {
        "id": "BCbJTK_Qwh31"
      },
      "outputs": [],
      "source": [
        "Desenvolva um programa que recebe do usuário nome completo e ano de nascimento que seja entre 1922 e 2021. A partir dessas informações, o sistema mostrará o nome do usuário e a idade que completou, ou completará, no ano atual (2022).\n",
        "Caso o usuário não digite um número ou apareça um inválido no campo do ano, o sistema informará o erro e continuará perguntando até que um valor correto seja preenchido.\n",
        "nC = input(\"Nome completo: \")\n",
        "while True:\n",
        "try:\n",
        "aN  = int(input(\"Digite o ano do seu nascimento: \"))\n",
        "\n",
        "aA = int(input('Digite o ano atual: '))\n",
        "\n",
        "aN = aA - aN\n",
        "\n",
        "if aA <= 2022:\n",
        "\n",
        "    print(nC)\n",
        "\n",
        "    print(\"Você completou \" + str(aN) + \" anos em \" + str(aA))\n",
        "\n",
        "else:\n",
        "\n",
        "    print(nC)\n",
        "\n",
        "    print(\"Você fará \" + str(aN) + \" anos em \" + str(aA))\n",
        "        \n",
        "c = input('Digite S para continuar ou N para finalizar: ')\n",
        "\n",
        "if c == 'S' or c  =='s':\n",
        "\n",
        "    continue\n",
        "\n",
        "elif c == 'N' or c == 'n':\n",
        "\n",
        "    print('Sistema finalizado!')\n",
        "\n",
        "    break\n",
        "except:\n",
        "print(\"Por favor digite um número inteiro nesse campo!\")\n"
      ]
    }
  ]
}