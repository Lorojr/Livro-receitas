{
  "nbformat": 4,
  "nbformat_minor": 0,
  "metadata": {
    "colab": {
      "provenance": [],
      "authorship_tag": "ABX9TyOL6DgQHnFHhsxZ1eeS2Kwm",
      "include_colab_link": true
    },
    "kernelspec": {
      "name": "python3",
      "display_name": "Python 3"
    },
    "language_info": {
      "name": "python"
    }
  },
  "cells": [
    {
      "cell_type": "markdown",
      "metadata": {
        "id": "view-in-github",
        "colab_type": "text"
      },
      "source": [
        "<a href=\"https://colab.research.google.com/github/Lorojr/Livro-receitas/blob/master/Contagem__Regressiva.ipynb\" target=\"_parent\"><img src=\"https://colab.research.google.com/assets/colab-badge.svg\" alt=\"Open In Colab\"/></a>"
      ]
    },
    {
      "cell_type": "code",
      "execution_count": null,
      "metadata": {
        "id": "A1TAPWRg0vos"
      },
      "outputs": [],
      "source": [
        "Faça um código que execute a contagem regressiva de uma bomba, informando o número de segundos para explodir.\n",
        "Ele deverá mostrar a mensagem “iniciando contagem regressiva”, os segundos passados e, no final, a mensagem “BUM!”.\n",
        "Não é necessário, mas, caso deseje tornar o sistema mais realista para que o tempo realmente passe em segundos, você pode usar a função time.sleep() que existe na Python (acesse o link em anexo).\n",
        "No entanto, é preciso adicionar uma biblioteca antes de executá-la.\n",
        "from time import sleep\n",
        "print(\"TIME⏳BOMB\")\n",
        "print(\"Iniciando contagem regressiva em 🕦...\") for i in range(10,0,-1):\n",
        "sleep(2)\n",
        "\n",
        "print(\"🤖 \",i,\"...\")\n",
        "\n",
        "sleep(2)\n",
        "print(\"BUM\" \n"
      ]
    }
  ]
}